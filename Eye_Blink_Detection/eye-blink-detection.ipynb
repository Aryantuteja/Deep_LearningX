{
 "cells": [
  {
   "cell_type": "code",
   "execution_count": 1,
   "metadata": {
    "_cell_guid": "79c7e3d0-c299-4dcb-8224-4455121ee9b0",
    "_uuid": "d629ff2d2480ee46fbb7e2d37f6b5fab8052498a",
    "execution": {
     "iopub.execute_input": "2020-12-08T18:12:42.084002Z",
     "iopub.status.busy": "2020-12-08T18:12:42.083178Z",
     "iopub.status.idle": "2020-12-08T18:12:42.216617Z",
     "shell.execute_reply": "2020-12-08T18:12:42.215792Z"
    },
    "papermill": {
     "duration": 0.146087,
     "end_time": "2020-12-08T18:12:42.216781",
     "exception": false,
     "start_time": "2020-12-08T18:12:42.070694",
     "status": "completed"
    },
    "tags": []
   },
   "outputs": [],
   "source": [
    "import numpy as np\n",
    "import cv2"
   ]
  },
  {
   "cell_type": "code",
   "execution_count": 2,
   "metadata": {
    "execution": {
     "iopub.execute_input": "2020-12-08T18:12:42.235154Z",
     "iopub.status.busy": "2020-12-08T18:12:42.234425Z",
     "iopub.status.idle": "2020-12-08T18:12:42.242898Z",
     "shell.execute_reply": "2020-12-08T18:12:42.242144Z"
    },
    "papermill": {
     "duration": 0.019009,
     "end_time": "2020-12-08T18:12:42.243035",
     "exception": false,
     "start_time": "2020-12-08T18:12:42.224026",
     "status": "completed"
    },
    "tags": []
   },
   "outputs": [],
   "source": [
    "face_cascade=cv2.CascadeClassifier('haarcascade_frontalface_default.xml')\n",
    "eye_cascade=cv2.CascadeClassifier('haarcascade_eye_tree_eyeglasses.xml')\n"
   ]
  },
  {
   "cell_type": "code",
   "execution_count": 3,
   "metadata": {
    "execution": {
     "iopub.execute_input": "2020-12-08T18:12:42.263465Z",
     "iopub.status.busy": "2020-12-08T18:12:42.262360Z",
     "iopub.status.idle": "2020-12-08T18:12:42.265617Z",
     "shell.execute_reply": "2020-12-08T18:12:42.265017Z"
    },
    "papermill": {
     "duration": 0.016132,
     "end_time": "2020-12-08T18:12:42.265734",
     "exception": false,
     "start_time": "2020-12-08T18:12:42.249602",
     "status": "completed"
    },
    "tags": []
   },
   "outputs": [],
   "source": [
    "first_read=True"
   ]
  },
  {
   "cell_type": "code",
   "execution_count": 4,
   "metadata": {
    "execution": {
     "iopub.execute_input": "2020-12-08T18:12:42.284655Z",
     "iopub.status.busy": "2020-12-08T18:12:42.283598Z",
     "iopub.status.idle": "2020-12-08T18:12:42.291164Z",
     "shell.execute_reply": "2020-12-08T18:12:42.290393Z"
    },
    "papermill": {
     "duration": 0.018979,
     "end_time": "2020-12-08T18:12:42.291291",
     "exception": false,
     "start_time": "2020-12-08T18:12:42.272312",
     "status": "completed"
    },
    "tags": []
   },
   "outputs": [],
   "source": [
    "#starting video capturing\n",
    "cap=cv2.VideoCapture(0)\n",
    "ret, img = cap.read()"
   ]
  },
  {
   "cell_type": "code",
   "execution_count": 5,
   "metadata": {
    "execution": {
     "iopub.execute_input": "2020-12-08T18:12:42.327372Z",
     "iopub.status.busy": "2020-12-08T18:12:42.326295Z",
     "iopub.status.idle": "2020-12-08T18:12:42.329998Z",
     "shell.execute_reply": "2020-12-08T18:12:42.329391Z"
    },
    "papermill": {
     "duration": 0.031916,
     "end_time": "2020-12-08T18:12:42.330141",
     "exception": false,
     "start_time": "2020-12-08T18:12:42.298225",
     "status": "completed"
    },
    "tags": []
   },
   "outputs": [],
   "source": [
    "while(ret):\n",
    "    ret, img =cap.read()\n",
    "    #converting recorded to gray scale\n",
    "    gray= cv2.cvtColor(img, cv2.COLOR_BGR2GRAY)\n",
    "    #applying filter\n",
    "    faces = face_cascade.detectMultiScale(gray,1.3,5,minSize=(200,200))\n",
    "    if(len(faces)>0):\n",
    "        for(x,y,w,h) in faces:\n",
    "            img=cv.rectangle(img,(x,y),(x+w,y+h),(0,255,0),2)\n",
    "        \n",
    "            roi_face=gray[y:y+h,x:x+w]\n",
    "            roi_face_clr=img[y:y+h,x:x+w]\n",
    "            eyes=eye_cascade.detectMultiScale(faceR,1.3,5,minSize(50,50))\n",
    "        \n",
    "            if(len(eyes)>=2):\n",
    "                if(first_read):\n",
    "                    cv2.putText(img,\"\\n Eyes Detected press s to start\",(70,70),cv2.FONT_HERSHEY_PLAIN,3,(0,255,0),2)\n",
    "                \n",
    "                \n",
    "                else:\n",
    "                    cv2.putText(img,\"\\n Eyes OPEN!!\",(70,70),cv2.FONT_HERSHEY_PLAIN,2,(255,255,255),2)\n",
    "        \n",
    "            else:\n",
    "                if(first_read):\n",
    "                    cv2.putText(img,\"\\n No Eyes Detected\",(70,70),cv2.FONT_HERSHEY_PLAIN,3,(0,255,0),2)\n",
    "            \n",
    "                else:\n",
    "                    print(\"<<<<----Blink Detected---->>>>\")\n",
    "                    cv2.waitkey(3000)\n",
    "                    first_read=True\n",
    "    else:\n",
    "        cv2.putText(img,\"\\n No Face Detected\",(100,100),cv2.FONT_HERSHEY_PLAIN,3,(0,255,0),2)\n",
    "        cv2.imshow('img',img)\n",
    "    a=cv2.waitkey(1)\n",
    "    if(a==ord('q')):\n",
    "        break\n",
    "    elif(a==ord('s') and first_read):\n",
    "        first_read=False"
   ]
  },
  {
   "cell_type": "code",
   "execution_count": 6,
   "metadata": {
    "execution": {
     "iopub.execute_input": "2020-12-08T18:12:42.349566Z",
     "iopub.status.busy": "2020-12-08T18:12:42.348735Z",
     "iopub.status.idle": "2020-12-08T18:12:42.398293Z",
     "shell.execute_reply": "2020-12-08T18:12:42.397504Z"
    },
    "papermill": {
     "duration": 0.061334,
     "end_time": "2020-12-08T18:12:42.398442",
     "exception": false,
     "start_time": "2020-12-08T18:12:42.337108",
     "status": "completed"
    },
    "tags": []
   },
   "outputs": [
    {
     "ename": "error",
     "evalue": "OpenCV(4.4.0) /tmp/pip-req-build-dglzv4yn/opencv/modules/highgui/src/window.cpp:645: error: (-2:Unspecified error) The function is not implemented. Rebuild the library with Windows, GTK+ 2.x or Cocoa support. If you are on Ubuntu or Debian, install libgtk2.0-dev and pkg-config, then re-run cmake or configure script in function 'cvDestroyAllWindows'\n",
     "output_type": "error",
     "traceback": [
      "\u001b[0;31m---------------------------------------------------------------------------\u001b[0m",
      "\u001b[0;31merror\u001b[0m                                     Traceback (most recent call last)",
      "\u001b[0;32m<ipython-input-6-37d044a27ce5>\u001b[0m in \u001b[0;36m<module>\u001b[0;34m\u001b[0m\n\u001b[1;32m      1\u001b[0m \u001b[0mcap\u001b[0m\u001b[0;34m.\u001b[0m\u001b[0mrelease\u001b[0m\u001b[0;34m(\u001b[0m\u001b[0;34m)\u001b[0m\u001b[0;34m\u001b[0m\u001b[0;34m\u001b[0m\u001b[0m\n\u001b[0;32m----> 2\u001b[0;31m \u001b[0mcv2\u001b[0m\u001b[0;34m.\u001b[0m\u001b[0mdestroyAllWindows\u001b[0m\u001b[0;34m(\u001b[0m\u001b[0;34m)\u001b[0m\u001b[0;34m\u001b[0m\u001b[0;34m\u001b[0m\u001b[0m\n\u001b[0m",
      "\u001b[0;31merror\u001b[0m: OpenCV(4.4.0) /tmp/pip-req-build-dglzv4yn/opencv/modules/highgui/src/window.cpp:645: error: (-2:Unspecified error) The function is not implemented. Rebuild the library with Windows, GTK+ 2.x or Cocoa support. If you are on Ubuntu or Debian, install libgtk2.0-dev and pkg-config, then re-run cmake or configure script in function 'cvDestroyAllWindows'\n"
     ]
    }
   ],
   "source": [
    "cap.release()\n",
    "cv2.destroyAllWindows()"
   ]
  }
 ],
 "metadata": {
  "kernelspec": {
   "display_name": "Python 3",
   "language": "python",
   "name": "python3"
  },
  "language_info": {
   "codemirror_mode": {
    "name": "ipython",
    "version": 3
   },
   "file_extension": ".py",
   "mimetype": "text/x-python",
   "name": "python",
   "nbconvert_exporter": "python",
   "pygments_lexer": "ipython3",
   "version": "3.7.6"
  },
  "papermill": {
   "duration": 4.978728,
   "end_time": "2020-12-08T18:12:42.514031",
   "environment_variables": {},
   "exception": null,
   "input_path": "__notebook__.ipynb",
   "output_path": "__notebook__.ipynb",
   "parameters": {},
   "start_time": "2020-12-08T18:12:37.535303",
   "version": "2.1.0"
  }
 },
 "nbformat": 4,
 "nbformat_minor": 4
}
